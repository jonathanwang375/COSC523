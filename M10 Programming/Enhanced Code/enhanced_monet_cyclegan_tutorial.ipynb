{
 "cells": [
  {
   "cell_type": "markdown",
   "id": "c83fbd5f",
   "metadata": {},
   "source": [
    "\n",
    "# Monet-Style CycleGAN Image Transformation\n",
    "\n",
    "This notebook uses a pre-trained CycleGAN model to transform photos into Monet-style images.\n",
    "Below, we document each step of the pipeline, provide optimized data handling, and introduce evaluation metrics for the generated images.\n"
   ]
  },
  {
   "cell_type": "markdown",
   "id": "57c7e411",
   "metadata": {},
   "source": [
    "\n",
    "## 1. Data Loading and Preparation\n",
    "\n",
    "The first step involves loading the dataset and preprocessing it for the model. We use TensorFlow's `tf.data` for efficient handling.\n"
   ]
  },
  {
   "cell_type": "code",
   "execution_count": null,
   "id": "b32538d4",
   "metadata": {},
   "outputs": [],
   "source": [
    "\n",
    "import tensorflow as tf\n",
    "import numpy as np\n",
    "\n",
    "# Load and preprocess dataset\n",
    "def preprocess_image(image):\n",
    "    image = tf.image.resize(image, [256, 256])\n",
    "    image = (image - 127.5) / 127.5  # Normalize to [-1, 1]\n",
    "    return image\n",
    "\n",
    "def load_dataset(dataset_path):\n",
    "    # Example: Load dataset from a directory\n",
    "    dataset = tf.keras.utils.image_dataset_from_directory(dataset_path, label_mode=None)\n",
    "    dataset = dataset.map(preprocess_image).batch(32)\n",
    "    return dataset\n",
    "\n",
    "photo_ds = load_dataset('/path/to/photos')  # Update with actual path\n"
   ]
  },
  {
   "cell_type": "markdown",
   "id": "0d5b6fc9",
   "metadata": {},
   "source": [
    "\n",
    "## 2. Loading the Pre-Trained CycleGAN Model\n",
    "\n",
    "We load the pre-trained CycleGAN generator to perform Monet-style transformations.\n"
   ]
  },
  {
   "cell_type": "code",
   "execution_count": null,
   "id": "e40aeb51",
   "metadata": {},
   "outputs": [],
   "source": [
    "\n",
    "from tensorflow.keras.models import load_model\n",
    "\n",
    "# Load the pre-trained generator (replace with actual model path)\n",
    "monet_generator = load_model('/path/to/pretrained/monet_generator.h5')\n"
   ]
  },
  {
   "cell_type": "markdown",
   "id": "92811ea2",
   "metadata": {},
   "source": [
    "\n",
    "## 3. Visualizing Transformations\n",
    "\n",
    "We display the original photos alongside the generated Monet-style images for comparison.\n"
   ]
  },
  {
   "cell_type": "code",
   "execution_count": null,
   "id": "a5a73377",
   "metadata": {},
   "outputs": [],
   "source": [
    "\n",
    "import matplotlib.pyplot as plt\n",
    "\n",
    "def visualize_transformations(photo_dataset, generator_model, num_samples=5):\n",
    "    _, ax = plt.subplots(num_samples, 2, figsize=(10, 5 * num_samples))\n",
    "    for i, img in enumerate(photo_dataset.take(num_samples)):\n",
    "        prediction = generator_model(img, training=False)[0].numpy()\n",
    "        prediction = (prediction * 127.5 + 127.5).astype(np.uint8)\n",
    "        img = (img[0] * 127.5 + 127.5).numpy().astype(np.uint8)\n",
    "\n",
    "        ax[i, 0].imshow(img)\n",
    "        ax[i, 1].imshow(prediction)\n",
    "        ax[i, 0].set_title(\"Input Photo\")\n",
    "        ax[i, 1].set_title(\"Monet-Style Output\")\n",
    "        ax[i, 0].axis(\"off\")\n",
    "        ax[i, 1].axis(\"off\")\n",
    "    plt.tight_layout()\n",
    "    plt.show()\n",
    "\n",
    "visualize_transformations(photo_ds, monet_generator)\n"
   ]
  },
  {
   "cell_type": "markdown",
   "id": "0f555e59",
   "metadata": {},
   "source": [
    "\n",
    "## 4. Evaluating Generated Images\n",
    "\n",
    "To quantitatively evaluate the transformations, we use Structural Similarity Index (SSIM) and Mean Squared Error (MSE).\n"
   ]
  },
  {
   "cell_type": "code",
   "execution_count": null,
   "id": "81cd11df",
   "metadata": {},
   "outputs": [],
   "source": [
    "\n",
    "from skimage.metrics import structural_similarity as ssim\n",
    "from sklearn.metrics import mean_squared_error\n",
    "\n",
    "def evaluate_images(original_images, generated_images):\n",
    "    ssim_scores = []\n",
    "    mse_scores = []\n",
    "\n",
    "    for original, generated in zip(original_images, generated_images):\n",
    "        original = (original * 127.5 + 127.5).astype(np.uint8)\n",
    "        generated = (generated * 127.5 + 127.5).astype(np.uint8)\n",
    "        \n",
    "        # Calculate SSIM\n",
    "        score = ssim(original, generated, multichannel=True)\n",
    "        ssim_scores.append(score)\n",
    "        \n",
    "        # Calculate MSE\n",
    "        mse_score = mean_squared_error(original.flatten(), generated.flatten())\n",
    "        mse_scores.append(mse_score)\n",
    "\n",
    "    print(f\"Average SSIM: {np.mean(ssim_scores):.4f}\")\n",
    "    print(f\"Average MSE: {np.mean(mse_scores):.2f}\")\n",
    "\n",
    "# Example usage\n",
    "original_images = [img.numpy() for img in photo_ds.take(5)]\n",
    "generated_images = [monet_generator(img, training=False).numpy() for img in photo_ds.take(5)]\n",
    "evaluate_images(original_images, generated_images)\n"
   ]
  },
  {
   "cell_type": "markdown",
   "id": "e4266616",
   "metadata": {},
   "source": [
    "\n",
    "## 5. Generating Monet-Style Images\n",
    "\n",
    "We parallelize the image generation process to improve efficiency.\n"
   ]
  },
  {
   "cell_type": "code",
   "execution_count": null,
   "id": "dc818ae1",
   "metadata": {},
   "outputs": [],
   "source": [
    "\n",
    "import os\n",
    "from concurrent.futures import ThreadPoolExecutor\n",
    "from PIL import Image\n",
    "\n",
    "output_dir = \"../images\"\n",
    "os.makedirs(output_dir, exist_ok=True)\n",
    "\n",
    "def save_image(img, output_path):\n",
    "    img = (img * 127.5 + 127.5).astype(np.uint8)\n",
    "    im = Image.fromarray(img)\n",
    "    im.save(output_path)\n",
    "\n",
    "def generate_images(photo_dataset, generator_model, output_dir):\n",
    "    with ThreadPoolExecutor() as executor:\n",
    "        for i, img in enumerate(photo_dataset):\n",
    "            prediction = generator_model(img, training=False)[0].numpy()\n",
    "            output_path = os.path.join(output_dir, f\"{i + 1}.jpg\")\n",
    "            executor.submit(save_image, prediction, output_path)\n",
    "\n",
    "generate_images(photo_ds, monet_generator, output_dir)\n"
   ]
  },
  {
   "cell_type": "markdown",
   "id": "a939ed0c",
   "metadata": {},
   "source": [
    "\n",
    "## 6. Archiving Submission Files\n",
    "\n",
    "Finally, we create a zip archive of the generated images for submission.\n"
   ]
  },
  {
   "cell_type": "code",
   "execution_count": null,
   "id": "4664e0ef",
   "metadata": {},
   "outputs": [],
   "source": [
    "\n",
    "import shutil\n",
    "\n",
    "shutil.make_archive(\"../images\", 'zip', \"../images\")\n",
    "print(\"Archive created at '../images.zip'\")\n"
   ]
  }
 ],
 "metadata": {},
 "nbformat": 4,
 "nbformat_minor": 5
}
